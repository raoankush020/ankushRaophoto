{
  "nbformat": 4,
  "nbformat_minor": 0,
  "metadata": {
    "colab": {
      "provenance": []
    },
    "kernelspec": {
      "name": "python3",
      "display_name": "Python 3"
    },
    "language_info": {
      "name": "python"
    }
  },
  "cells": [
    {
      "cell_type": "code",
      "source": [],
      "metadata": {
        "id": "Dw5ogCNL3KJL"
      },
      "execution_count": null,
      "outputs": []
    },
    {
      "cell_type": "code",
      "source": [
        "import pandas as pd\n",
        "from sklearn.model_selection import train_test_split\n",
        "from sklearn.ensemble import RandomForestClassifier\n",
        "from sklearn.preprocessing import LabelEncoder\n",
        "from sklearn.metrics import accuracy_score\n",
        "import joblib\n",
        "\n",
        "# 1. Load and preprocess data\n",
        "def load_and_prepare(file_path):\n",
        "    df = pd.read_csv(\"/content/crop_yield.csv\")\n",
        "\n",
        "    # Auto-detect target column (containing 'yield')\n",
        "    target_col = [col for col in df.columns if 'yield' in col.lower()][0]\n",
        "\n",
        "    # Encode categorical features\n",
        "    le_seed = LabelEncoder()\n",
        "    le_yield = LabelEncoder()\n",
        "\n",
        "    df['seed_type'] = le_seed.fit_transform(df['seed_type'])\n",
        "    df[target_col] = le_yield.fit_transform(df[target_col])\n",
        "\n",
        "    X = df.drop(columns=[target_col])\n",
        "    y = df[target_col]\n",
        "\n",
        "    return X, y, le_seed, le_yield, target_col\n",
        "\n",
        "# 2. Train model\n",
        "def train_model(X, y):\n",
        "    X_train, X_test, y_train, y_test = train_test_split(X, y, test_size=0.2, random_state=42)\n",
        "    model = RandomForestClassifier(n_estimators=100)\n",
        "    model.fit(X_train, y_train)\n",
        "\n",
        "    # Evaluation\n",
        "    accuracy = accuracy_score(y_test, model.predict(X_test))\n",
        "    print(f\"\\n✅ Model Accuracy: {accuracy * 100:.2f}%\")\n",
        "    return model\n",
        "\n",
        "# 3. Predict from user input\n",
        "def predict_user_input(model, le_seed, le_yield):\n",
        "    print(\"\\nEnter input to predict crop yield category:\")\n",
        "    soil = int(input(\"Enter soil type (as number): \"))\n",
        "    rain = int(input(\"Enter rainfall (in mm): \"))\n",
        "    seed = input(\"Enter seed type (e.g. A, B, C): \")\n",
        "\n",
        "    seed_encoded = le_seed.transform([seed])[0]\n",
        "    features = [[soil, rain, seed_encoded]]\n",
        "\n",
        "    pred = model.predict(features)[0]\n",
        "    predicted_label = le_yield.inverse_transform([pred])[0]\n",
        "\n",
        "    print(f\"🔮 Predicted Crop Yield Category: {predicted_label}\")\n",
        "\n",
        "# Main\n",
        "def main():\n",
        "    file_path = \"/mnt/data/39db7b72-0b76-4031-a1cd-5fe8fa9ca1cc.csv\"\n",
        "    X, y, le_seed, le_yield, target_col = load_and_prepare(file_path)\n",
        "    model = train_model(X, y)\n",
        "    joblib.dump(model, \"crop_yield_model.joblib\")\n",
        "\n",
        "    predict_user_input(model, le_seed, le_yield)\n",
        "\n",
        "if __name__ == \"__main__\":\n",
        "    main()\n"
      ],
      "metadata": {
        "colab": {
          "base_uri": "https://localhost:8080/"
        },
        "id": "eHBJ8s6I3kiu",
        "outputId": "d3e7af88-c584-4b35-8008-24b2daa97684"
      },
      "execution_count": null,
      "outputs": [
        {
          "name": "stdout",
          "output_type": "stream",
          "text": [
            "\n",
            "✅ Model Accuracy: 40.00%\n",
            "\n",
            "Enter input to predict crop yield category:\n",
            "Enter soil type (as number): 5\n"
          ]
        }
      ]
    }
  ]
}